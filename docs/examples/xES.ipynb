{
  "cells": [
    {
      "cell_type": "markdown",
      "metadata": {},
      "source": [
        "# Welcom to xEarthStat For AgERA5\n",
        "\n",
        "xEarthStat for AgERA5 allows users to download and aggregate AgERA5 climate data for a specified Region of Interest (ROI). This document outlines the installation process, setup, and usage instructions to get you started."
      ]
    },
    {
      "cell_type": "markdown",
      "metadata": {},
      "source": [
        "### Installation\n",
        "\n",
        "To use xEarthStat for AgERA5, you first need to install the `earthstat` Python package. Run the following command in your Python environment:"
      ]
    },
    {
      "cell_type": "markdown",
      "metadata": {},
      "source": [
        "### Step 1:Install & Import xEarthStat"
      ]
    },
    {
      "cell_type": "code",
      "execution_count": null,
      "metadata": {},
      "outputs": [],
      "source": [
        "# install the EarthStat\n",
        "\n",
        "!pip install earthstat"
      ]
    },
    {
      "cell_type": "code",
      "execution_count": null,
      "metadata": {
        "id": "JMD972z6oV2e"
      },
      "outputs": [],
      "source": [
        "# import the package\n",
        "\n",
        "from earthstat import xEarthStat as xES"
      ]
    },
    {
      "cell_type": "markdown",
      "metadata": {},
      "source": [
        "### Step 2: Initialize xEarthStat Workflow"
      ]
    },
    {
      "cell_type": "markdown",
      "metadata": {},
      "source": [
        "Create an instance of xEarthStat, and initialize the workflow"
      ]
    },
    {
      "cell_type": "code",
      "execution_count": null,
      "metadata": {},
      "outputs": [],
      "source": [
        "# create an instance of the workflow\n",
        "\n",
        "EU_AgERA5 = xES()"
      ]
    },
    {
      "cell_type": "markdown",
      "metadata": {},
      "source": [
        "initilize the workflow by:\n",
        "\n",
        "- **ROI Name** (`str`): Unique identifier for your ROI.\n",
        "- **shape_file_path** (`str`): shapefile file path"
      ]
    },
    {
      "cell_type": "code",
      "execution_count": null,
      "metadata": {},
      "outputs": [],
      "source": [
        "ROI_name = 'EU'\n",
        "shape_file_path = 'EU.shp'\n",
        "\n",
        "EU_AgERA5.init_workflow(\n",
        "    ROI_name, \n",
        "    shape_file_path # Adding shape file path is optional\n",
        ")"
      ]
    },
    {
      "cell_type": "markdown",
      "metadata": {},
      "source": [
        "> <span style=\"color:red;\">**Note & Caution:**</span> Adding shapefile(optional): for just downloading data without data aggregation you can pass the shapefile.  "
      ]
    },
    {
      "cell_type": "markdown",
      "metadata": {},
      "source": [
        "### Step 3: Download AgERA5 From CDS\n",
        "\n",
        "Download the AgERA5 data for your ROI by defining the following:\n",
        "- **AgERA5_parameters** (`list`): Define the list of interested variables to download from CDS."
      ]
    },
    {
      "cell_type": "markdown",
      "metadata": {},
      "source": [
        "> <span style=\"color:red;\">**Note & Caution:**</span> Currently, xEarthStat can just download 7 variables included in the table below.\n",
        "\n",
        "| Variable                 | AgERA5 Parameter            | Statistical Download Type |\n",
        "|--------------------------|-----------------------------|---------------------------|\n",
        "| Maximum Temperature      | 2m_temperature              | 24_hour_maximum           |\n",
        "| Minimum Temperature      | 2m_temperature              | 24_hour_minimum           |\n",
        "| Mean Temperature         | 2m_temperature              | 24_hour_mean              |\n",
        "| Solar Radiation Flux     | solar_radiation_flux        | -                         |\n",
        "| Precipitation Flux       | precipitation_flux          | -                         |\n",
        "| Wind Speed               | 10m_wind_speed              | 24_hour_mean              |\n",
        "| Vapour Pressure          | vapour_pressure             | 24_hour_mean              |\n"
      ]
    },
    {
      "cell_type": "markdown",
      "metadata": {},
      "source": [
        "- **Bounding Box** (`list` of `float`): `north`, `west`, `south`, and `east` coordinates of ROI.\n",
        "- **start_year** (`int`): the start year for data.\n",
        "- **end_year** (`int`):  the end year for data.\n",
        "\n",
        "***Example:***\n",
        "To download data from 2000 to 2020, set start_year to 2000 and end_year to 2020. For a single year, set both to the same year."
      ]
    },
    {
      "cell_type": "code",
      "execution_count": null,
      "metadata": {},
      "outputs": [],
      "source": [
        "# Define the AgERA5's variables to be downloaded\n",
        "\n",
        "AgERA5_parameters = [\n",
        "    'Maximum_Temperature', 'Minimum_Temperature', 'Mean_Temperature',\n",
        "    'Solar_Radiation_Flux', 'Precipitation_Flux', 'Wind_Speed','Vapour_Pressure'\n",
        "    ]\n",
        "\n",
        "# Define the ROI's bounding box, start year, and end year\n",
        "\n",
        "ROI_bounding_box = [71, -31, 34.5, 40]  # [north, west, south, east]\n",
        "start_year = 2000\n",
        "end_year = 2001"
      ]
    },
    {
      "cell_type": "markdown",
      "metadata": {},
      "source": [
        "Next, initialize the AgERA5 downloader by defined parameters:"
      ]
    },
    {
      "cell_type": "code",
      "execution_count": null,
      "metadata": {},
      "outputs": [],
      "source": [
        "# Initialize the AgERA5 downloader\n",
        "\n",
        "EU_AgERA5.init_AgERA5_downloader(\n",
        "    AgERA5_parameters,\n",
        "    ROI_bounding_box,\n",
        "    start_year,\n",
        "    end_year\n",
        ")"
      ]
    },
    {
      "cell_type": "markdown",
      "metadata": {},
      "source": [
        "**`xES.download_AgERA5`** options:\n",
        "\n",
        "- `num_requests`: the number of downloading requests sends to CDS's API server until download all data.\n",
        "- `extract`: `True` to Extract the downloaded AgERA5 zip files, set `False` if you don't want to extract zip files."
      ]
    },
    {
      "cell_type": "code",
      "execution_count": null,
      "metadata": {
        "id": "q_-LmDg_pCME"
      },
      "outputs": [],
      "source": [
        "# Start downloading the AgERA5 data\n",
        "\n",
        "EU_AgERA5.download_AgERA5(num_requests=6,\n",
        "                          extract=True)"
      ]
    },
    {
      "cell_type": "markdown",
      "metadata": {},
      "source": [
        "> <span style=\"color:red;\">**Note & Caution:**</span> \n",
        "- Don't send more than 5 requests to the server. That leads to the server to block your API key from downloading.\n",
        "- If your ROI is to much small decrease the number of requests to two."
      ]
    },
    {
      "cell_type": "markdown",
      "metadata": {},
      "source": [
        "### Step 4: Aggregate Data\n",
        "\n",
        "xEarthStat's Aggregation process utilize the availability of GPU for parallel computation, and using the avilalble CPU cores for multiprocessing. it automatically detect if there is a GPU or not, if not it shift computational processing on CPU.\n",
        "\n",
        "`xES.Aggregate_AgERA5`:\n",
        "\n",
        "- `dataset_type`: Chosing the type of dataset, `dekadal` for aggregated dekadal (1,11,21 of month) dataset, `daily` for daily dataset.\n",
        "\n",
        "- `all_touched`: Default to `False` to just consider pixels within the geometry object. `True` to consider all touched pixels by geo-object.\n",
        "\n",
        "- `stat`:  `\"mean\"`(Default), `\"median\"`, `\"min\"`, `\"max\"`, `\"sum\"`.\n",
        "\n",
        "- `multi_processing`: Enables parallel processing.\n",
        "\n",
        "- `max_workers`: Default to total number of CPU's cores. You can change the number of cores that used in multiprocessing."
      ]
    },
    {
      "cell_type": "code",
      "execution_count": null,
      "metadata": {},
      "outputs": [],
      "source": [
        "# Explore the number of all CPU cores\n",
        "\n",
        "import os\n",
        "\n",
        "cpu_cores = os.cpu_count()\n",
        "\n",
        "print(f'Number of CPU cores: {cpu_cores}')"
      ]
    },
    {
      "cell_type": "code",
      "execution_count": null,
      "metadata": {
        "id": "kKNXUWKBvbkz"
      },
      "outputs": [],
      "source": [
        "# Start aggregating the downloaded AgERA5 data\n",
        "\n",
        "EU_AgERA5.Aggregate_AgERA5(\n",
        "\n",
        "    dataset_type = \"dekadal\",\n",
        "    all_touched=False,\n",
        "    stat='mean',\n",
        "    multi_processing=False,\n",
        "    max_workers=None, # None means using all CPU cores\n",
        ")"
      ]
    },
    {
      "cell_type": "markdown",
      "metadata": {},
      "source": [
        "### Step 5 (Optional): Merge Aggregated AgERA5's Variables CSVs\n",
        "\n",
        "Optionally, merge all generated datasets' csv files into one merged csv for all aggregated variables:\n",
        "\n",
        "`xES.AgERA5_merged_csv`:\n",
        "\n",
        "- `kelvin_to_celsius`: To convert the temperature unit from kelvin to celsius.\n",
        "\n",
        "- `output_name`: option to add the name of merged csv, it's default to `AgERA5_{ROI_name}_merged_parameters_{workflow}_{timestamp}.csv`"
      ]
    },
    {
      "cell_type": "code",
      "execution_count": null,
      "metadata": {},
      "outputs": [],
      "source": [
        "EU_AgERA5.AgERA5_merged_csv(kelvin_to_celsius=False, \n",
        "                            output_name=None)"
      ]
    }
  ],
  "metadata": {
    "accelerator": "GPU",
    "colab": {
      "gpuType": "T4",
      "provenance": []
    },
    "kernelspec": {
      "display_name": "Python 3",
      "name": "python3"
    },
    "language_info": {
      "name": "python"
    }
  },
  "nbformat": 4,
  "nbformat_minor": 0
}
