{
  "cells": [
    {
      "cell_type": "markdown",
      "metadata": {},
      "source": [
        "# Welcom to xEarthStat For AgERA5\n",
        "\n",
        "xEarthStat for AgERA5 allows users to download and aggregate AgERA5 climate data for a specified Region of Interest (ROI). This document outlines the installation process, setup, and usage instructions to get you started."
      ]
    },
    {
      "cell_type": "markdown",
      "metadata": {},
      "source": [
        "### Installation\n",
        "\n",
        "To use xEarthStat for AgERA5, you first need to install the `earthstat` Python package. Run the following command in your Python environment:"
      ]
    },
    {
      "cell_type": "code",
      "execution_count": null,
      "metadata": {},
      "outputs": [],
      "source": [
        "!pip install earthstat"
      ]
    },
    {
      "cell_type": "markdown",
      "metadata": {},
      "source": [
        "### Step 1: Import xEarthStat"
      ]
    },
    {
      "cell_type": "code",
      "execution_count": null,
      "metadata": {
        "id": "JMD972z6oV2e"
      },
      "outputs": [],
      "source": [
        "from earthstat import xEarthStat as xES"
      ]
    },
    {
      "cell_type": "markdown",
      "metadata": {},
      "source": [
        "### Step 2: Define Your Region of Interest (ROI)\n",
        "Specify your ROI's name, bounding box, and the time range for the data you're interested in:\n",
        "\n",
        "- **ROI Name** (`str`): Unique identifier for your ROI.\n",
        "- **Bounding Box** (`list` of `float`): Define the north, west, south, and east coordinates of your ROI.\n",
        "- **Time Range** (`int`): Specify the start and end years."
      ]
    },
    {
      "cell_type": "code",
      "execution_count": null,
      "metadata": {
        "id": "DZxYyzRPo7C2"
      },
      "outputs": [],
      "source": [
        "ROI_name = 'EU_AgERA5'\n",
        "start_year = 2000\n",
        "end_year = 2001\n",
        "\n",
        "ROI_bounding_box = [71, -31, 34.5, 40]  # [north, west, south, east]"
      ]
    },
    {
      "cell_type": "markdown",
      "metadata": {},
      "source": [
        "### Step 3: Set AgERA5 Parameters\n",
        "\n",
        "List the climate parameters you want to download for your ROI:"
      ]
    },
    {
      "cell_type": "code",
      "execution_count": null,
      "metadata": {},
      "outputs": [],
      "source": [
        "AgERA5_parameters = [\n",
        "    'Maximum_Temperature', 'Minimum_Temperature', 'Mean_Temperature',\n",
        "    'Solar_Radiation_Flux', 'Precipitation_Flux', 'Wind_Speed','Vapour_Pressure'\n",
        "    ]"
      ]
    },
    {
      "cell_type": "markdown",
      "metadata": {},
      "source": [
        "> <span style=\"color:red;\">**Note & Caution:**</span> xEarthStat can just download 7 variables included in the table below.\n",
        "\n",
        "| Variable                 | AgERA5 Parameter            | Statistical Download Type |\n",
        "|--------------------------|-----------------------------|---------------------------|\n",
        "| Maximum Temperature      | 2m_temperature              | 24_hour_maximum           |\n",
        "| Minimum Temperature      | 2m_temperature              | 24_hour_minimum           |\n",
        "| Mean Temperature         | 2m_temperature              | 24_hour_mean              |\n",
        "| Solar Radiation Flux     | solar_radiation_flux        | -                         |\n",
        "| Precipitation Flux       | precipitation_flux          | -                         |\n",
        "| Wind Speed               | 10m_wind_speed              | 24_hour_mean              |\n",
        "| Vapour Pressure          | vapour_pressure             | 24_hour_mean              |\n"
      ]
    },
    {
      "cell_type": "markdown",
      "metadata": {},
      "source": [
        "### Step 4: Define the Shapefile Path\n",
        "\n",
        "Provide the file path to your shapefile:"
      ]
    },
    {
      "cell_type": "code",
      "execution_count": null,
      "metadata": {},
      "outputs": [],
      "source": [
        "shapefile_file_path = 'EU/admin3.shp'"
      ]
    },
    {
      "cell_type": "markdown",
      "metadata": {},
      "source": [
        "### Step 5: Initialize xEarthStat\n",
        "\n",
        "Create an instance of xEarthStat with the specified parameters:\n",
        "- `workflow`: The type of final generated dataset, `dekadal` for aggregated dekadal (1,11,21 of month) dataset, `daily` for daily dataset.   \n",
        "- `multi_processing`: Enables parallel processing."
      ]
    },
    {
      "cell_type": "code",
      "execution_count": null,
      "metadata": {
        "id": "UacP556ko8hN"
      },
      "outputs": [],
      "source": [
        "EU_AgERA5 = xES(ROI_name,\n",
        "                AgERA5_parameters,\n",
        "                start_year,\n",
        "                end_year,\n",
        "                ROI_bounding_box,\n",
        "                shapefile_path=shapefile_file_path,\n",
        "                workflow='daily',\n",
        "                multi_processing=True)"
      ]
    },
    {
      "cell_type": "markdown",
      "metadata": {},
      "source": [
        "### Step 6: Download Data\n",
        "\n",
        "Download the AgERA5 data for your ROI:\n",
        "- `num_requests`: the number of downloading requests sends to CDS's API server until download all data.\n",
        "- `extract`: Extract the downloaded AgERA5 zip files, set `False` if you don't want to extract them."
      ]
    },
    {
      "cell_type": "code",
      "execution_count": null,
      "metadata": {
        "id": "q_-LmDg_pCME"
      },
      "outputs": [],
      "source": [
        "EU_AgERA5.download_AgERA5(num_requests=6,\n",
        "                          extract=True)"
      ]
    },
    {
      "cell_type": "markdown",
      "metadata": {},
      "source": [
        "> <span style=\"color:red;\">**Note & Caution:**</span> Don't send more than 6 requests to the server. That may lead to pressure on the server and may result in blocking your API key from downloading."
      ]
    },
    {
      "cell_type": "markdown",
      "metadata": {},
      "source": [
        "### Step 7: Aggregate Data\n",
        "\n",
        "xEarthStat's Aggregation process utilize the availability of GPU for parallel computation, and using the avilalble CPU cores for multiprocessing. it automatically detect if there is a GPU or not, if not it shift computational processing on CPU.\n",
        "\n",
        "- `max_workers`: Default to total number of CPU's cores. You can change the number of cores that used in multiprocessing.\n",
        "- `all_touched`: Default to `False` to just consider pixels within the geometry object. `True` to consider all touched pixels by geo-object. \n",
        "- `stat`:  `\"mean\"`(Default), `\"median\"`, `\"min\"`, `\"max\"`, `\"sum\"`."
      ]
    },
    {
      "cell_type": "code",
      "execution_count": null,
      "metadata": {},
      "outputs": [],
      "source": [
        "import os\n",
        "\n",
        "# Get the number of all CPU cores\n",
        "cpu_cores = os.cpu_count()\n",
        "\n",
        "print(f'Number of CPU cores: {cpu_cores}')"
      ]
    },
    {
      "cell_type": "code",
      "execution_count": null,
      "metadata": {
        "id": "kKNXUWKBvbkz"
      },
      "outputs": [],
      "source": [
        "EU_AgERA5.Aggregate_AgERA5(max_workers=cpu_cores,\n",
        "                           all_touched=False,\n",
        "                           stat='mean')"
      ]
    },
    {
      "cell_type": "markdown",
      "metadata": {},
      "source": [
        "### Step 8: Export Aggregated Data\n",
        "\n",
        "Optionally, merge all generated datasets' csv files into one merged csv for all aggregated variables:\n",
        "- `kelvin_to_celsius`: To convert the temperature unit from kelvin to celsius.\n",
        "- `output_name`: option to add the name of merged csv, it's default to `AgERA5_{ROI_name}_merged_parameters_{workflow}_{timestamp}.csv`"
      ]
    },
    {
      "cell_type": "code",
      "execution_count": null,
      "metadata": {},
      "outputs": [],
      "source": [
        "EU_AgERA5.AgERA5_merged_csv(kelvin_to_celsius=False, output_name=None)"
      ]
    }
  ],
  "metadata": {
    "accelerator": "GPU",
    "colab": {
      "gpuType": "T4",
      "provenance": []
    },
    "kernelspec": {
      "display_name": "Python 3",
      "name": "python3"
    },
    "language_info": {
      "name": "python"
    }
  },
  "nbformat": 4,
  "nbformat_minor": 0
}
