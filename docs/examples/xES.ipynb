{
  "cells": [
    {
      "cell_type": "code",
      "execution_count": null,
      "metadata": {},
      "outputs": [],
      "source": [
        "!pip install earthstat"
      ]
    },
    {
      "cell_type": "code",
      "execution_count": null,
      "metadata": {
        "id": "JMD972z6oV2e"
      },
      "outputs": [],
      "source": [
        "from earthstat import xEarthStat as xES"
      ]
    },
    {
      "cell_type": "code",
      "execution_count": null,
      "metadata": {
        "id": "DZxYyzRPo7C2"
      },
      "outputs": [],
      "source": [
        "area_name = 'EU_AgERA5_4'\n",
        "bounding_box = [71, -31, 34.5, 40]  # [north, west, south, east]\n",
        "\n",
        "parameters = [\n",
        "    'Maximum_Temperature', 'Minimum_Temperature', 'Mean_Temperature',\n",
        "    'Solar_Radiation_Flux', 'Precipitation_Flux', 'Wind_Speed','Vapour_Pressure'\n",
        "    ]\n",
        "\n",
        "start_year = 2000\n",
        "end_year = 2001\n",
        "\n",
        "shapefile_file_path = 'maize_wheat_EU/maize_wheat_EU.shp'"
      ]
    },
    {
      "cell_type": "code",
      "execution_count": null,
      "metadata": {
        "id": "UacP556ko8hN"
      },
      "outputs": [],
      "source": [
        "AgERA5_EU = xES(area_name,\n",
        "                parameters,\n",
        "                start_year,\n",
        "                end_year,\n",
        "                bounding_box,\n",
        "                shapefile_path=shapefile_file_path,\n",
        "                workflow='daily',\n",
        "                multi_processing=True)"
      ]
    },
    {
      "cell_type": "code",
      "execution_count": null,
      "metadata": {
        "id": "q_-LmDg_pCME"
      },
      "outputs": [],
      "source": [
        "AgERA5_EU.download_AgERA5(num_requests=6, extract=True)"
      ]
    },
    {
      "cell_type": "code",
      "execution_count": null,
      "metadata": {
        "id": "kKNXUWKBvbkz"
      },
      "outputs": [],
      "source": [
        "AgERA5_EU.Aggregate_AgERA5()"
      ]
    },
    {
      "cell_type": "code",
      "execution_count": null,
      "metadata": {},
      "outputs": [],
      "source": [
        "AgERA5_EU.get_final_merged_csv(kelvin_to_celsius=False, \n",
        "                    output_name=None)"
      ]
    }
  ],
  "metadata": {
    "accelerator": "GPU",
    "colab": {
      "gpuType": "T4",
      "provenance": []
    },
    "kernelspec": {
      "display_name": "Python 3",
      "name": "python3"
    },
    "language_info": {
      "name": "python"
    }
  },
  "nbformat": 4,
  "nbformat_minor": 0
}
