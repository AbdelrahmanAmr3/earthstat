{
  "cells": [
    {
      "cell_type": "code",
      "execution_count": null,
      "metadata": {},
      "outputs": [],
      "source": [
        "!pip install earthstat"
      ]
    },
    {
      "cell_type": "code",
      "execution_count": null,
      "metadata": {
        "id": "JMD972z6oV2e"
      },
      "outputs": [],
      "source": [
        "from earthstat import xEarthStat as xES"
      ]
    },
    {
      "cell_type": "code",
      "execution_count": null,
      "metadata": {
        "id": "DZxYyzRPo7C2"
      },
      "outputs": [],
      "source": [
        "ROI_name = 'EU_AgERA5'\n",
        "start_year = 2000\n",
        "end_year = 2001\n",
        "\n",
        "ROI_bounding_box = [71, -31, 34.5, 40]  # [north, west, south, east]\n",
        "\n",
        "AgERA5_parameters = [\n",
        "    'Maximum_Temperature', 'Minimum_Temperature', 'Mean_Temperature',\n",
        "    'Solar_Radiation_Flux', 'Precipitation_Flux', 'Wind_Speed','Vapour_Pressure'\n",
        "    ]\n",
        "\n",
        "shapefile_file_path = 'maize_wheat_EU/maize_wheat_EU.shp'"
      ]
    },
    {
      "cell_type": "code",
      "execution_count": null,
      "metadata": {
        "id": "UacP556ko8hN"
      },
      "outputs": [],
      "source": [
        "EU_AgERA5 = xES(ROI_name,\n",
        "                AgERA5_parameters,\n",
        "                start_year,\n",
        "                end_year,\n",
        "                ROI_bounding_box,\n",
        "                shapefile_path=shapefile_file_path,\n",
        "                workflow='daily',\n",
        "                multi_processing=True)"
      ]
    },
    {
      "cell_type": "code",
      "execution_count": null,
      "metadata": {
        "id": "q_-LmDg_pCME"
      },
      "outputs": [],
      "source": [
        "EU_AgERA5.download_AgERA5(num_requests=6,\n",
        "                          extract=True)"
      ]
    },
    {
      "cell_type": "code",
      "execution_count": null,
      "metadata": {},
      "outputs": [],
      "source": [
        "import os\n",
        "\n",
        "# Get the number of all CPU cores\n",
        "cpu_cores = os.cpu_count()\n",
        "\n",
        "print(f'Number of CPU cores: {cpu_cores}')"
      ]
    },
    {
      "cell_type": "code",
      "execution_count": null,
      "metadata": {
        "id": "kKNXUWKBvbkz"
      },
      "outputs": [],
      "source": [
        "EU_AgERA5.Aggregate_AgERA5(max_workers=cpu_cores,\n",
        "                           all_touched=False,\n",
        "                           stat='mean')"
      ]
    },
    {
      "cell_type": "code",
      "execution_count": null,
      "metadata": {},
      "outputs": [],
      "source": [
        "EU_AgERA5.AgERA5_merged_csv(kelvin_to_celsius=False, \n",
        "                               output_name=None)"
      ]
    }
  ],
  "metadata": {
    "accelerator": "GPU",
    "colab": {
      "gpuType": "T4",
      "provenance": []
    },
    "kernelspec": {
      "display_name": "Python 3",
      "name": "python3"
    },
    "language_info": {
      "name": "python"
    }
  },
  "nbformat": 4,
  "nbformat_minor": 0
}
