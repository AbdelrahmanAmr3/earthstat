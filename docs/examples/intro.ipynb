{
 "cells": [
  {
   "cell_type": "markdown",
   "id": "4372bab6-1224-44e1-9455-d8c94242b27c",
   "metadata": {},
   "source": [
    "# Welcom to EarthStat"
   ]
  },
  {
   "cell_type": "code",
   "execution_count": 38,
   "id": "0dc04804-0bf4-4d6b-a033-85e1ff6a0fa5",
   "metadata": {
    "tags": []
   },
   "outputs": [],
   "source": [
    "# !pip install earthstat"
   ]
  },
  {
   "cell_type": "code",
   "execution_count": 35,
   "id": "bfd380ac-6aa9-4bf9-be8f-c5e9643d9145",
   "metadata": {
    "tags": []
   },
   "outputs": [],
   "source": [
    "from earthstat.earthstat import EarthStat"
   ]
  },
  {
   "cell_type": "code",
   "execution_count": 3,
   "id": "38dda94a-fb79-4da1-931c-dd2772c368ae",
   "metadata": {
    "tags": []
   },
   "outputs": [],
   "source": [
    "# predictor_name              = 'FPAR' # Predictor Name\n",
    "# predictor_dir               = 'FPAR' # Predictor Dir\n",
    "# mask_path                   = 'crop mask/Percent_Maize.tif' # Mask Path\n",
    "# shapefile_path              = 'shapefile/test_filtered_gaul1_asap.shp' # Shapefile Path\n",
    "# selected_countries          = [\"Norway\", \"Spain\"]\t   # Choose Name Of Countries\n",
    "# country_column_name         = 'adm0_name'\t\t   # Name of Column contains countries \n",
    "# invalid_values              =[255, 254, 251] # Set None if no invalid Values"
   ]
  },
  {
   "cell_type": "code",
   "execution_count": 5,
   "id": "a6485354-a4ca-4de5-8dd5-9097a42e7abe",
   "metadata": {
    "tags": []
   },
   "outputs": [],
   "source": [
    "# aggregate_fpar = EarthStat(predictor_name)"
   ]
  },
  {
   "cell_type": "code",
   "execution_count": 6,
   "id": "54954063-a88f-40e3-9ada-375ecfcdc9a3",
   "metadata": {
    "tags": []
   },
   "outputs": [
    {
     "name": "stdout",
     "output_type": "stream",
     "text": [
      "Predictor Summary:\n",
      "\n",
      "predictor: FPAR\n",
      "total_tiff_files: 2\n",
      "date_range: 2015-07-21 to 2015-08-01\n",
      "directory: FPAR\n",
      "CRS: WGS 84\n",
      "Extent: BoundingBox(left=-180.004464285715, bottom=-56.00446430667502, right=179.99553577188502, top=75.004464285715)\n",
      "Data Type: uint8\n",
      "NoData Value: 255.0\n",
      "Spatial Resolution: 80640x29346\n",
      "Pixel Size: (0.004464285715, 0.004464285715)\n",
      "\n",
      "Predictor Paths Initialized Correctly, Initialize The Mask's Path\n"
     ]
    }
   ],
   "source": [
    "# aggregate_fpar.initDataDir(predictor_dir)"
   ]
  },
  {
   "cell_type": "code",
   "execution_count": 7,
   "id": "b9c9eb1f-9420-4ddd-9aba-1e4ccc9c549e",
   "metadata": {
    "tags": []
   },
   "outputs": [
    {
     "name": "stdout",
     "output_type": "stream",
     "text": [
      "Mask Summary:\n",
      "\n",
      "Mask_path: crop mask/Percent_Maize.tif\n",
      "CRS: WGS 84\n",
      "Extent: BoundingBox(left=-180.0, bottom=-89.99999999999994, right=180.0, top=90.00000000000006)\n",
      "Data Type: uint16\n",
      "NoData Value: 99.0\n",
      "Spatial Resolution: (7200, 3600)\n",
      "Pixel Size: (0.05, 0.05)\n",
      "Min/Max Value: (0, 10000)\n",
      "\n",
      "Mask Initialized Correctly, Initialize The Shapefile\n"
     ]
    }
   ],
   "source": [
    "# aggregate_fpar.initMaskPath(mask_path)"
   ]
  },
  {
   "cell_type": "code",
   "execution_count": 8,
   "id": "ac609670-93f0-4bfa-bb00-cc0b17a9a9c8",
   "metadata": {
    "tags": []
   },
   "outputs": [
    {
     "name": "stdout",
     "output_type": "stream",
     "text": [
      "Shapefile Summary:\n",
      "\n",
      "Geometry Type: ['MultiPolygon' 'Polygon']\n",
      "Coordinate Reference System (CRS): WGS_84_Pseudo-Mercator\n",
      "Extent: [-2022634.81443587  3203512.94054597  3458167.43087574 11466900.28122624]\n",
      "Feature Count: 36\n",
      "Attributes: ['adm1_code', 'adm1_name', 'adm0_code', 'adm0_name', 'adm0_name_', 'adm1_name_', 'asap1_id', 'asap0_id', 'geometry']\n",
      "\n",
      "Shapefile Initialized Correctly, You Can Check The Data Compatibility\n"
     ]
    }
   ],
   "source": [
    "# aggregate_fpar.initShapefilePath(shapefile_path)"
   ]
  },
  {
   "cell_type": "code",
   "execution_count": 9,
   "id": "335c4e50-0053-49fe-abe7-d441df521ec6",
   "metadata": {
    "tags": []
   },
   "outputs": [
    {
     "name": "stdout",
     "output_type": "stream",
     "text": [
      "ISSUE: PIXEL SIZE MISMATCH\n",
      "############################################################\n",
      "Mask Pixel Size        : (0.05, 0.05)\n",
      "Predicotr Pixel Size   : (0.004464285715, 0.004464285715)\n",
      "############################################################\n",
      "WARNING: Resampling The Mask Is Required.\n",
      "\n",
      "NO ISSUE: The projections of the mask and predictor are identical: WGS 84\n",
      "ISSUE: The projections of the raster data and shapefile are not identical\n",
      "############################################################\n",
      "raster data CRS: WGS 84\n",
      "shapefile CRS: WGS_84_Pseudo-Mercator\n",
      "############################################################\n",
      "WARNING: Consider reprojecting the raster data to match the projection of the shapefile.\n",
      "\n",
      "\n",
      "COMPATIBILITY ISSUE DETECTED: The data is not compatible based on the current checks.\n"
     ]
    }
   ],
   "source": [
    "# aggregate_fpar.DataCompatibility()"
   ]
  },
  {
   "cell_type": "code",
   "execution_count": 10,
   "id": "75e1b6c2-5eb4-44b3-8abe-5f359c3b7b2c",
   "metadata": {
    "tags": []
   },
   "outputs": [
    {
     "name": "stdout",
     "output_type": "stream",
     "text": [
      "Checking for compatibility issues...\n",
      "Compatibility issues detected. Starting the fix process...\n",
      "- Resampling the mask to match the raster's resolution and extent.\n",
      "- Reprojecting the shapefile to match the raster's coordinate reference system.\n",
      "Resampling mask...\n",
      "Filtered shapefile saved to: crop mask/rescaled_resampled_average_Percent_Maize.tif\n",
      "\n",
      "Reprojecting shapefile...\n",
      "Shapefile reprojected to match raster CRS and saved to shapefile/reprojected_test_filtered_gaul1_asap.shp\n",
      "Mask resampled successfully. Updated mask path: [crop mask/rescaled_resampled_average_Percent_Maize.tif]\n",
      "\n",
      "Re-checking data compatibility after applying fixes...\n",
      "\n",
      "NO ISSUE: The pixel sizes of the mask and predictor are identical: (0.004464285715, 0.004464285715)\n",
      "NO ISSUE: The projections of the mask and predictor are identical: WGS 84\n",
      "NO ISSUE: The projections of the raster data and shapefile are identical: WGS 84\n",
      "\n",
      "All compatibility issues have been resolved. Data is now compatible.\n"
     ]
    }
   ],
   "source": [
    "# # Resampling Methods [nearest, bilinear, cubic, average]\n",
    "# aggregate_fpar.fixCompatibilityIssues(rescale_factor=None, # None = Rescale OFF\n",
    "#                                       resampling_method=\"bilinear\") # Defualt Bilinear"
   ]
  },
  {
   "cell_type": "code",
   "execution_count": 11,
   "id": "c7927f0f-ad64-4508-ac7f-983148153307",
   "metadata": {
    "tags": []
   },
   "outputs": [
    {
     "name": "stdout",
     "output_type": "stream",
     "text": [
      "Filtered shapefile saved to: shapefile/filtered_reprojected_test_filtered_gaul1_asap.shp\n",
      "Region of Interest (ROI) successfully selected based on the specified countries: Norway, Spain.\n"
     ]
    }
   ],
   "source": [
    "# aggregate_fpar.selectRegionOfInterest(selected_countries,\n",
    "#                                       country_column_name)"
   ]
  },
  {
   "cell_type": "code",
   "execution_count": 12,
   "id": "712281ed-6c71-4d5c-b796-cc5f37134b5c",
   "metadata": {
    "tags": []
   },
   "outputs": [
    {
     "name": "stdout",
     "output_type": "stream",
     "text": [
      "Clipping the predictor data...\n"
     ]
    },
    {
     "name": "stderr",
     "output_type": "stream",
     "text": [
      "Clipping Rasters: 100%|██████████| 2/2 [00:08<00:00,  4.01s/it]"
     ]
    },
    {
     "name": "stdout",
     "output_type": "stream",
     "text": [
      "Clipping operation successful with the Region of Interest (ROI).\n"
     ]
    },
    {
     "name": "stderr",
     "output_type": "stream",
     "text": [
      "\n"
     ]
    }
   ],
   "source": [
    "# Running clip withtout select ROI, will clip using main shapefile\n",
    "# aggregate_fpar.clipPredictor()"
   ]
  },
  {
   "cell_type": "code",
   "execution_count": 13,
   "id": "d571f600-198e-493a-a53a-08ffc431b8da",
   "metadata": {
    "tags": []
   },
   "outputs": [
    {
     "name": "stdout",
     "output_type": "stream",
     "text": [
      "Starting aggregation...\n",
      "Starting aggregation with the selected Region of Interest (ROI) for FPAR.\n"
     ]
    },
    {
     "name": "stderr",
     "output_type": "stream",
     "text": [
      "Processing rasters: 100%|██████████| 2/2 [00:07<00:00,  3.80s/raster]"
     ]
    },
    {
     "name": "stdout",
     "output_type": "stream",
     "text": [
      "Aggregation complete. Data saved to Aggregated_FPAR.csv.\n"
     ]
    },
    {
     "name": "stderr",
     "output_type": "stream",
     "text": [
      "\n"
     ]
    }
   ],
   "source": [
    "# aggregate_fpar.runAggregation()"
   ]
  }
 ],
 "metadata": {
  "kernelspec": {
   "display_name": "Python 3 (ipykernel)",
   "language": "python",
   "name": "python3"
  },
  "language_info": {
   "codemirror_mode": {
    "name": "ipython",
    "version": 3
   },
   "file_extension": ".py",
   "mimetype": "text/x-python",
   "name": "python",
   "nbconvert_exporter": "python",
   "pygments_lexer": "ipython3",
   "version": "3.9.18"
  }
 },
 "nbformat": 4,
 "nbformat_minor": 5
}
