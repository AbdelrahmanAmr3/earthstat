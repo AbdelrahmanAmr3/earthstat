{
 "cells": [
  {
   "cell_type": "markdown",
   "id": "4372bab6-1224-44e1-9455-d8c94242b27c",
   "metadata": {},
   "source": [
    "# Welcom to EarthStat\n",
    "Welcome to EarthStat, your comprehensive tool for extracting geographical and statistical data. This notebook is designed to guide you through the initial setup, data preparation, and the various functionalities available in the EarthStat library."
   ]
  },
  {
   "cell_type": "markdown",
   "id": "9ac74833",
   "metadata": {},
   "source": [
    "### Installation"
   ]
  },
  {
   "cell_type": "code",
   "execution_count": 1,
   "id": "0dc04804-0bf4-4d6b-a033-85e1ff6a0fa5",
   "metadata": {
    "tags": []
   },
   "outputs": [],
   "source": [
    "!pip install earthstat"
   ]
  },
  {
   "cell_type": "code",
   "execution_count": 2,
   "id": "bfd380ac-6aa9-4bf9-be8f-c5e9643d9145",
   "metadata": {
    "tags": []
   },
   "outputs": [],
   "source": [
    "from earthstat import EarthStat"
   ]
  },
  {
   "cell_type": "markdown",
   "id": "faa90aaa-eea0-491c-ba78-c936170e020a",
   "metadata": {},
   "source": [
    "### User Configuration For Extracting Statistical Info"
   ]
  },
  {
   "cell_type": "markdown",
   "id": "b7d5f0d6-a291-4ac1-9cff-35bbc1b98ec1",
   "metadata": {},
   "source": [
    "Initialize the core settings:\n",
    "\n",
    "- `predictor_name`: The name of the predictor being used.  \n",
    "- `predictor_dir`: The directory where the predictor's related files are stored.  \n",
    "- `mask_file_path`: The file path to the mask file, used for calculate weighted mean or mask the raster.  \n",
    "- `shapefile_file_path`: Path to the shapefile containing geographical boundaries.\n",
    "- `selected_countries`: A list of countries - Region of interest (ROI).\n",
    "- `country_column_name`: The column's name in the dataset that contains country names.  \n",
    "- `invalid_values`: A list of values considered invalid within the dataset.\n",
    "\n",
    "\n",
    "> **Important:** Be sure to set `invalid_values` to `None` if you do not wish to exclude any values from the dataset's rasters."
   ]
  },
  {
   "cell_type": "code",
   "execution_count": 3,
   "id": "38dda94a-fb79-4da1-931c-dd2772c368ae",
   "metadata": {
    "tags": []
   },
   "outputs": [],
   "source": [
    "predictor_name              = 'FPAR'\n",
    "predictor_dir               = 'FPAR'\n",
    "mask_file_path              = 'crop mask/asap_mask_crop_v04.tif'\n",
    "shapefile_file_path         = 'shapefile/gaul1_asap.shp'\n",
    "selected_countries          = [\"Norway\", \"Spain\"]\t\n",
    "country_column_name         = 'adm0_name'\n",
    "invalid_values              = [255, 254, 251] \n",
    "\n",
    "fpar_aggregator = EarthStat(predictor_name)"
   ]
  },
  {
   "cell_type": "markdown",
   "id": "5124cb15-36c1-499c-93ab-c0a17fa0b6c5",
   "metadata": {},
   "source": [
    "Important To know that:\n",
    "> **Caution:** An increase in ROI size may lead to system crashes for normal processing due to insuffienct RAM size."
   ]
  },
  {
   "cell_type": "markdown",
   "id": "13ccec35-1561-4235-b854-c08b4e780fc4",
   "metadata": {},
   "source": [
    "### Data initialization\n",
    "Set up the foundational paths for your data processing pipeline. This includes initializing the directory for the predictor data, the path for the mask file, and the location of the shapefile. Each step is crucial for ensuring that the subsequent data processing and analysis can proceed smoothly."
   ]
  },
  {
   "cell_type": "code",
   "execution_count": 4,
   "id": "54954063-a88f-40e3-9ada-375ecfcdc9a3",
   "metadata": {
    "tags": []
   },
   "outputs": [
    {
     "name": "stdout",
     "output_type": "stream",
     "text": [
      "TIFF data found. Loading...\n",
      "\n",
      "Predictor Summary:\n",
      "\n",
      "predictor: FPAR\n",
      "total_tiff_files: 2\n",
      "date_range: 2015-07-21 to 2015-08-01\n",
      "directory: FPAR\n",
      "CRS: WGS 84\n",
      "Extent: BoundingBox(left=-180.004464285715, bottom=-56.00446430667502, right=179.99553577188502, top=75.004464285715)\n",
      "Data Type: uint8\n",
      "NoData Value: 255.0\n",
      "Spatial Resolution: 80640x29346\n",
      "Pixel Size: (0.004464285715, 0.004464285715)\n",
      "\n",
      "Predictor Paths Initialized Correctly, Initialize The Mask's Path\n"
     ]
    }
   ],
   "source": [
    "fpar_aggregator.initDataDir(predictor_dir)"
   ]
  },
  {
   "cell_type": "code",
   "execution_count": 5,
   "id": "b9c9eb1f-9420-4ddd-9aba-1e4ccc9c549e",
   "metadata": {
    "tags": []
   },
   "outputs": [
    {
     "name": "stdout",
     "output_type": "stream",
     "text": [
      "Mask Summary:\n",
      "\n",
      "Mask_path: crop mask/asap_mask_crop_v04.tif\n",
      "CRS: WGS 84\n",
      "Extent: BoundingBox(left=-180.004464285715, bottom=-56.00446430667502, right=179.99553577188502, top=75.004464285715)\n",
      "Data Type: uint8\n",
      "NoData Value: None\n",
      "Spatial Resolution: (80640, 29346)\n",
      "Pixel Size: (0.004464285715, 0.004464285715)\n",
      "Min/Max Value: (0, 100)\n",
      "\n",
      "Mask Initialized Correctly, Initialize The Shapefile\n"
     ]
    }
   ],
   "source": [
    "fpar_aggregator.initMaskPath(mask_file_path)"
   ]
  },
  {
   "cell_type": "code",
   "execution_count": 6,
   "id": "ac609670-93f0-4bfa-bb00-cc0b17a9a9c8",
   "metadata": {
    "tags": []
   },
   "outputs": [
    {
     "name": "stdout",
     "output_type": "stream",
     "text": [
      "Shapefile Summary:\n",
      "\n",
      "Geometry Type: ['MultiPolygon' None 'Polygon']\n",
      "Coordinate Reference System (CRS): WGS 84\n",
      "Extent: [-180.          -55.7948999   180.           83.62741852]\n",
      "Feature Count: 2368\n",
      "Attributes: ['adm1_code', 'adm1_name', 'adm0_code', 'adm0_name', 'adm0_name_', 'adm1_name_', 'asap1_id', 'asap0_id', 'geometry']\n",
      "\n",
      "Shapefile Initialized Correctly, You Can Check The Data Compatibility\n"
     ]
    }
   ],
   "source": [
    "fpar_aggregator.initShapefilePath(shapefile_file_path)"
   ]
  },
  {
   "cell_type": "markdown",
   "id": "7e16aa98-cfc0-4fed-a21d-75e35634cebf",
   "metadata": {},
   "source": [
    "### Check Data Compatibility and Fix Data Compatibility Issues\n",
    "\n",
    "Evaluate the compatibility of projections and pixel sizes across the mask, raster, and shapefile to ensure seamless data integration. This check confirms that the projection systems align for the mask, raster, and shapefile, and it also verifies that the pixel sizes between the raster and mask are compatible."
   ]
  },
  {
   "cell_type": "code",
   "execution_count": 7,
   "id": "335c4e50-0053-49fe-abe7-d441df521ec6",
   "metadata": {
    "tags": []
   },
   "outputs": [
    {
     "name": "stdout",
     "output_type": "stream",
     "text": [
      "NO ISSUE: The pixel sizes of the mask and predictor are identical: (0.004464285715, 0.004464285715)\n",
      "NO ISSUE: The projections of the mask and predictor are identical: WGS 84\n",
      "NO ISSUE: The projections of the raster data and shapefile are identical: WGS 84\n",
      "\n",
      "COMPATIBILITY CHECK PASSED: The data is compatible. No resolution or projection mismatches were detected.\n"
     ]
    }
   ],
   "source": [
    "fpar_aggregator.DataCompatibility()"
   ]
  },
  {
   "cell_type": "markdown",
   "id": "a346e985-8245-446e-95d9-e8066982972e",
   "metadata": {},
   "source": [
    "### Resolving Data Compatibility Issues\n",
    "This section addresses how to rectify issues identified by the data compatibility check. It focuses on resolving mismatches in pixel size between the raster and mask, or discrepancies in the Coordinate Reference System (CRS) among the raster, mask, and shapefile. The objective is to ensure uniformity in scale, resolution, and geospatial alignment across all datasets involved in the analysis.\n",
    "\n",
    "Paramaters:\n",
    "- `rescale_factor`: This parameter allows for the adjustment of the data's scale. By default, it is set to `None`, maintaining the original scale of the data. To alter the scale, specify a new range with a tuple, such as `(0,100)`.\n",
    "- `resampling_method`: This specifies the technique used to resample the data, with options including `\"nearest\"`, `\"bilinear\"`, `\"cubic\"`, and `\"average\"`. The default method is `\"bilinear\"`, suitable for a wide range of applications.\n"
   ]
  },
  {
   "cell_type": "code",
   "execution_count": 8,
   "id": "75e1b6c2-5eb4-44b3-8abe-5f359c3b7b2c",
   "metadata": {
    "tags": []
   },
   "outputs": [
    {
     "name": "stdout",
     "output_type": "stream",
     "text": [
      "Checking for compatibility issues...\n",
      "No compatibility issues detected. Predictor, mask, and shapefile are already compatible.\n"
     ]
    }
   ],
   "source": [
    "fpar_aggregator.fixCompatibilityIssues(rescale_factor=None, # None = Rescale OFF\n",
    "                                      resampling_method=\"bilinear\") # Defualt Bilinear"
   ]
  },
  {
   "cell_type": "markdown",
   "id": "02d2378c-c8b9-41be-8c30-278dbdc8fe78",
   "metadata": {},
   "source": [
    "### Selecting Region of Interest (ROI) - Filter Shapefile\n",
    "\n",
    "Specify the area for data analysis by identifying the region of interest. Configure the target ROI and link it to the corresponding column that designates country or area names within the dataset."
   ]
  },
  {
   "cell_type": "code",
   "execution_count": 9,
   "id": "c7927f0f-ad64-4508-ac7f-983148153307",
   "metadata": {
    "tags": []
   },
   "outputs": [
    {
     "name": "stdout",
     "output_type": "stream",
     "text": [
      "Filtered shapefile saved to: shapefile/filtered_gaul1_asap.shp\n",
      "Region of Interest (ROI) successfully selected based on the specified countries: Norway, Spain.\n"
     ]
    }
   ],
   "source": [
    "fpar_aggregator.selectRegionOfInterest(selected_countries,\n",
    "                                      country_column_name)"
   ]
  },
  {
   "cell_type": "markdown",
   "id": "47bdbf42-4d38-4079-97b7-d2efe17b38fb",
   "metadata": {},
   "source": [
    "### Clipping Predictor Data\n",
    "\n",
    "Clip the predictor data to the boundaries defined in the main shapefile. "
   ]
  },
  {
   "cell_type": "code",
   "execution_count": 10,
   "id": "712281ed-6c71-4d5c-b796-cc5f37134b5c",
   "metadata": {
    "tags": []
   },
   "outputs": [
    {
     "name": "stdout",
     "output_type": "stream",
     "text": [
      "Clipping the predictor data...\n"
     ]
    },
    {
     "name": "stderr",
     "output_type": "stream",
     "text": [
      "Clipping Rasters: 100%|██████████| 2/2 [00:08<00:00,  4.06s/it]"
     ]
    },
    {
     "name": "stdout",
     "output_type": "stream",
     "text": [
      "Clipping operation successful with the Region of Interest (ROI).\n",
      "CPU times: total: 8.02 s\n",
      "Wall time: 8.13 s\n"
     ]
    },
    {
     "name": "stderr",
     "output_type": "stream",
     "text": [
      "\n"
     ]
    }
   ],
   "source": [
    "%time fpar_aggregator.clipPredictor()"
   ]
  },
  {
   "cell_type": "markdown",
   "id": "8e3bdd16",
   "metadata": {},
   "source": [
    "> **Note & Caution:** The Function is a multiprocessing process. Using the main shapefile without filtering may led to system crash or error due to the big amount of geometry objects in original shapefile."
   ]
  },
  {
   "cell_type": "markdown",
   "id": "424741da-2cf0-4be5-b103-88e812ec3984",
   "metadata": {},
   "source": [
    "### Executing Data Aggregation\n",
    "Start data aggregation process, leveraging the predictor data, mask, and the filtered shapefile.\n",
    "\n",
    "##### Parameters\n",
    "\n",
    "- `use_mask` (**bool**): Specifies whether to apply a mask to the raster data. When set to `True`, the function will use the mask path provided (if applicable) to only process areas within the mask. Default is `False`.\n",
    "  \n",
    "- `invalid_values` (**list of int**): A list of pixel values to be treated as invalid and excluded from the aggregation. For example, `[255, 254, 251]` can be used to ignore certain values that represent no data or errors in the raster files.\n",
    "\n",
    "- `calculation_mode` (**str**): Determines the mode of aggregation for pixel values. Supported modes include:\n",
    "  - `\"overall_mean\"`: Calculates the mean of all valid pixel values across the raster dataset.\n",
    "  - `\"weighted_mean\"`: Calculates the weighted mean of the valid pixel values using the mask values as weights. This mode is applicable only when `use_mask` is `True` and a valid `mask_path` is provided.\n",
    "  - `\"filtered_mean\"`: Applies a filter using the validated mask values to mask the data before calculating the mean. This mode is intended for scenarios where only specific parts of the raster that meet certain conditions (defined by the mask) should contribute to the mean calculation.\n",
    "\n",
    "- `all_touched` (**bool**): If set to `True`, all pixels touched by geometries will be included in the mask. If `False`, only pixels whose center is within the geometry or touching the geometry boundary will be included. Default is `False`."
   ]
  },
  {
   "cell_type": "code",
   "execution_count": 11,
   "id": "d36044cb-05c7-406c-ade7-4ce519b5cd62",
   "metadata": {},
   "outputs": [
    {
     "name": "stdout",
     "output_type": "stream",
     "text": [
      "Starting aggregation...\n",
      "Starting aggregation with the selected Region of Interest (ROI) for FPAR.\n"
     ]
    },
    {
     "name": "stderr",
     "output_type": "stream",
     "text": [
      "Processing rasters: 100%|██████████| 2/2 [00:05<00:00,  2.72s/raster]"
     ]
    },
    {
     "name": "stdout",
     "output_type": "stream",
     "text": [
      "Aggregation complete. Data saved to Aggregated_FPAR.csv.\n",
      "CPU times: total: 5.92 s\n",
      "Wall time: 5.9 s\n"
     ]
    },
    {
     "name": "stderr",
     "output_type": "stream",
     "text": [
      "\n"
     ]
    }
   ],
   "source": [
    "# Mask On\n",
    "use_mask=True\n",
    "calculation_mode=\"weighted_mean\"\n",
    "all_touched=False\n",
    "\n",
    "%time fpar_aggregator.runAggregation(use_mask, invalid_values, calculation_mode, all_touched)"
   ]
  },
  {
   "cell_type": "markdown",
   "id": "9c9577a4-0994-4595-9265-5753b3b1e0ef",
   "metadata": {},
   "source": [
    "### Parallel Processing with `runParallelAggregation`\n",
    "\n",
    "The `runParallelAggregation` method is designed to process and aggregate raster data across multiple files in parallel, enhancing performance for large datasets. This method leverages multiple CPU cores to simultaneously process different portions of the data, reducing overall computation time."
   ]
  },
  {
   "cell_type": "code",
   "execution_count": 12,
   "id": "d571f600-198e-493a-a53a-08ffc431b8da",
   "metadata": {
    "tags": []
   },
   "outputs": [
    {
     "name": "stdout",
     "output_type": "stream",
     "text": [
      "Starting aggregation...\n",
      "Starting aggregation with the selected Region of Interest (ROI) for FPAR.\n"
     ]
    },
    {
     "name": "stderr",
     "output_type": "stream",
     "text": [
      "Processing rasters: 100%|██████████| 2/2 [00:02<00:00,  1.33s/raster]"
     ]
    },
    {
     "name": "stdout",
     "output_type": "stream",
     "text": [
      "Aggregation complete. Data saved to Aggregated_overall_mean_FPAR_20240315_162031.csv.\n",
      "CPU times: total: 422 ms\n",
      "Wall time: 3.2 s\n"
     ]
    },
    {
     "name": "stderr",
     "output_type": "stream",
     "text": [
      "\n"
     ]
    }
   ],
   "source": [
    "# Mask Off\n",
    "use_mask=False\n",
    "calculation_mode=\"overall_mean\"\n",
    "all_touched=False\n",
    "\n",
    "%time fpar_aggregator.runParallelAggregation(use_mask, invalid_values, calculation_mode, all_touched)"
   ]
  },
  {
   "cell_type": "code",
   "execution_count": 13,
   "id": "020e9170-bf27-4958-ae07-0aed3b41ab84",
   "metadata": {},
   "outputs": [
    {
     "name": "stdout",
     "output_type": "stream",
     "text": [
      "Starting aggregation...\n",
      "Starting aggregation with the selected Region of Interest (ROI) for FPAR.\n"
     ]
    },
    {
     "name": "stderr",
     "output_type": "stream",
     "text": [
      "Processing rasters: 100%|██████████| 2/2 [00:04<00:00,  2.33s/raster]\n"
     ]
    },
    {
     "name": "stdout",
     "output_type": "stream",
     "text": [
      "Aggregation complete. Data saved to Aggregated_weighted_mean_FPAR_20240315_162034.csv.\n",
      "CPU times: total: 422 ms\n",
      "Wall time: 5.19 s\n"
     ]
    }
   ],
   "source": [
    "# Mask On\n",
    "use_mask=True\n",
    "calculation_mode=\"weighted_mean\"\n",
    "all_touched=False\n",
    "\n",
    "%time fpar_aggregator.runParallelAggregation(use_mask, invalid_values, calculation_mode, all_touched)"
   ]
  },
  {
   "cell_type": "markdown",
   "id": "b0de7fca",
   "metadata": {},
   "source": [
    "> **Caution:** `runAggregation` and `runParallelAggregation` function combine clipping and aggregation, so it does not save clipped raster, if you did not clip."
   ]
  }
 ],
 "metadata": {
  "kernelspec": {
   "display_name": "Python 3 (ipykernel)",
   "language": "python",
   "name": "python3"
  },
  "language_info": {
   "codemirror_mode": {
    "name": "ipython",
    "version": 3
   },
   "file_extension": ".py",
   "mimetype": "text/x-python",
   "name": "python",
   "nbconvert_exporter": "python",
   "pygments_lexer": "ipython3",
   "version": "3.9.18"
  }
 },
 "nbformat": 4,
 "nbformat_minor": 5
}
