{
  "cells": [
    {
      "cell_type": "code",
      "execution_count": null,
      "metadata": {
        "id": "N5-yPE-Hkm-T"
      },
      "outputs": [],
      "source": [
        "# !pip install earthstat"
      ]
    },
    {
      "cell_type": "code",
      "execution_count": null,
      "metadata": {
        "id": "S3hNbicB3mo3"
      },
      "outputs": [],
      "source": [
        "from earthstat.earthstat import EarthStat"
      ]
    },
    {
      "cell_type": "code",
      "execution_count": null,
      "metadata": {
        "id": "XwJ3d19p7hAL"
      },
      "outputs": [],
      "source": [
        "# predictor_name              = 'FPAR'\n",
        "# predictor_dir               = 'FPAR_500'\n",
        "# mask_path                   = 'crop mask/asap_mask_crop_v04.tif'\n",
        "# shapefile_path              = 'shapefile/gaul1_asap.shp'\n",
        "# selected_countries          = [\"Norway\",\"Spain\"] #\n",
        "# country_column_name         = 'adm0_name'\t\t   # Name of Column contains countries\n",
        "# invalid_values              = [255, 254, 251]"
      ]
    },
    {
      "cell_type": "code",
      "execution_count": null,
      "metadata": {
        "id": "owdRxqPJ6z4L"
      },
      "outputs": [],
      "source": [
        "# aggregate_fpar = EarthStat(predictor_name)"
      ]
    },
    {
      "cell_type": "code",
      "execution_count": null,
      "metadata": {
        "colab": {
          "base_uri": "https://localhost:8080/"
        },
        "id": "Wo1J6Phj7La8",
        "outputId": "72e5bcb0-cf7c-4dcb-8550-3fa043889745"
      },
      "outputs": [
        {
          "name": "stdout",
          "output_type": "stream",
          "text": [
            "Data Summary:\n",
            "- Found 7 TIFF files in 'FPAR_500'.\n",
            "- Data covers the period from 2015-07-11 to 2015-10-21.\n",
            "- Predictor: FPAR\n",
            "- Resolution: 80640x29346\n",
            "- Coordinate Reference System (CRS): WGS 84\n",
            "\n",
            "\n",
            "Predictor Initialized Correctly, Initialize The Mask\n"
          ]
        }
      ],
      "source": [
        "# aggregate_fpar.initDataDir(predictor_dir)"
      ]
    },
    {
      "cell_type": "code",
      "execution_count": null,
      "metadata": {
        "colab": {
          "base_uri": "https://localhost:8080/"
        },
        "id": "zzOFHJom7nPp",
        "outputId": "5574ede0-ce7f-4167-b7f9-ce5f6a597a7c"
      },
      "outputs": [
        {
          "name": "stdout",
          "output_type": "stream",
          "text": [
            "Mask Initialized Correctly, Initialize The Shapefile\n"
          ]
        }
      ],
      "source": [
        "# aggregate_fpar.initMask(mask_path)"
      ]
    },
    {
      "cell_type": "code",
      "execution_count": null,
      "metadata": {
        "colab": {
          "base_uri": "https://localhost:8080/"
        },
        "id": "-CPPVV1C-ZYr",
        "outputId": "918f1ee8-368e-4d79-f990-0de29dddb5fc"
      },
      "outputs": [
        {
          "name": "stdout",
          "output_type": "stream",
          "text": [
            "Shapefile Initialized Correctly, Now Check The Data Compatibility\n"
          ]
        }
      ],
      "source": [
        "# aggregate_fpar.initShapefile(shapefile_path)"
      ]
    },
    {
      "cell_type": "code",
      "execution_count": null,
      "metadata": {
        "colab": {
          "base_uri": "https://localhost:8080/"
        },
        "id": "v77WohASLYgC",
        "outputId": "fdb388e7-0fc6-4788-84de-1637d217e055"
      },
      "outputs": [
        {
          "name": "stdout",
          "output_type": "stream",
          "text": [
            "NO ISSUE: The pixel sizes of the mask and predictor are identical: (0.004464285715, 0.004464285715)\n",
            "NO ISSUE: The projections of the mask and predictor are identical: WGS 84\n",
            "NO ISSUE: The projections of the raster data and shapefile are identical: WGS 84\n",
            "\n",
            "COMPATIBILITY CHECK PASSED: The data is compatible. No resolution or projection mismatches were detected.\n"
          ]
        }
      ],
      "source": [
        "# aggregate_fpar.DataCompatibility()"
      ]
    },
    {
      "cell_type": "code",
      "execution_count": null,
      "metadata": {
        "colab": {
          "base_uri": "https://localhost:8080/"
        },
        "id": "DzKNdRYdLzoi",
        "outputId": "c097bb61-4e45-45fe-e8db-b3b60df41828"
      },
      "outputs": [
        {
          "name": "stdout",
          "output_type": "stream",
          "text": [
            "Checking for compatibility issues...\n",
            "No compatibility issues detected. Predictor, mask, and shapefile are already compatible.\n"
          ]
        }
      ],
      "source": [
        "# aggregate_fpar.fixCompatibilityIssues()"
      ]
    },
    {
      "cell_type": "code",
      "execution_count": null,
      "metadata": {
        "colab": {
          "base_uri": "https://localhost:8080/"
        },
        "id": "gGtNf5fOL5x3",
        "outputId": "5c92040a-031a-41a9-a665-730ae775f2e3"
      },
      "outputs": [
        {
          "name": "stdout",
          "output_type": "stream",
          "text": [
            "Filtered shapefile saved to: shapefile/filtered_gaul1_asap.shp\n",
            "Region of Interest (ROI) successfully selected based on the specified countries: Viet Nam, Spain.\n"
          ]
        }
      ],
      "source": [
        "# aggregate_fpar.selectRegionOfInterest(selected_countries,\n",
        "#                                       country_column_name)"
      ]
    },
    {
      "cell_type": "code",
      "execution_count": null,
      "metadata": {
        "colab": {
          "base_uri": "https://localhost:8080/"
        },
        "id": "-U1avcvbL6se",
        "outputId": "7da8dcc0-354a-4b58-d59a-ad576c532b4c"
      },
      "outputs": [
        {
          "name": "stderr",
          "output_type": "stream",
          "text": [
            "Clipping Rasters: 100%|██████████| 7/7 [01:41<00:00, 14.49s/it]"
          ]
        },
        {
          "name": "stdout",
          "output_type": "stream",
          "text": [
            "Clipping operation successful. Clipped data stored in: clipped FPAR_500\n"
          ]
        },
        {
          "name": "stderr",
          "output_type": "stream",
          "text": [
            "\n"
          ]
        }
      ],
      "source": [
        "# aggregate_fpar.clipPredictor(invalid_values)"
      ]
    },
    {
      "cell_type": "code",
      "execution_count": null,
      "metadata": {
        "colab": {
          "base_uri": "https://localhost:8080/",
          "height": 86,
          "referenced_widgets": [
            "8e5fd21c9dbe438491c884291dae02ab",
            "6c739d3aaa004144a99c46d3df4fced9",
            "5fc3e98edbbe4d5d8e7506c06d37d7b8",
            "e7cdf04d9522487db5f72ae46053fe81",
            "70596f5326154d5c9384cf33ea06d1bd",
            "a2504c0a982d42268434c2d803ca6892",
            "47b42ab7a8b64efdb7920df519c4f973",
            "1e74a389ea2b47f0ac2f3a4abcad5dab",
            "4c677646be3f41dcb4c544e382da2aea",
            "f89bd44178a34c4aa2c063ecee22d07e",
            "0f8ed5678f934b8d8604335cd416bfb5"
          ]
        },
        "id": "avX0m4piL7mi",
        "outputId": "66e15ade-f2d7-4e5f-8726-2420b00e3bff"
      },
      "outputs": [
        {
          "name": "stdout",
          "output_type": "stream",
          "text": [
            "Starting aggregation with the selected Region of Interest (ROI) for FPAR.\n"
          ]
        },
        {
          "data": {
            "application/vnd.jupyter.widget-view+json": {
              "model_id": "8e5fd21c9dbe438491c884291dae02ab",
              "version_major": 2,
              "version_minor": 0
            },
            "text/plain": [
              "Processing rasters:   0%|          | 0/7 [00:00<?, ?raster/s]"
            ]
          },
          "metadata": {},
          "output_type": "display_data"
        },
        {
          "name": "stdout",
          "output_type": "stream",
          "text": [
            "Aggregation complete. Data saved to Aggregated_FPAR.csv.\n"
          ]
        }
      ],
      "source": [
        "# aggregate_fpar.runAggregation()"
      ]
    }
  ],
  "metadata": {
    "colab": {
      "provenance": []
    },
    "kernelspec": {
      "display_name": "Python 3",
      "name": "python3"
    },
    "language_info": {
      "name": "python"
    },
    "widgets": {
      "application/vnd.jupyter.widget-state+json": {
        "0f8ed5678f934b8d8604335cd416bfb5": {
          "model_module": "@jupyter-widgets/controls",
          "model_module_version": "1.5.0",
          "model_name": "DescriptionStyleModel",
          "state": {
            "_model_module": "@jupyter-widgets/controls",
            "_model_module_version": "1.5.0",
            "_model_name": "DescriptionStyleModel",
            "_view_count": null,
            "_view_module": "@jupyter-widgets/base",
            "_view_module_version": "1.2.0",
            "_view_name": "StyleView",
            "description_width": ""
          }
        },
        "1e74a389ea2b47f0ac2f3a4abcad5dab": {
          "model_module": "@jupyter-widgets/base",
          "model_module_version": "1.2.0",
          "model_name": "LayoutModel",
          "state": {
            "_model_module": "@jupyter-widgets/base",
            "_model_module_version": "1.2.0",
            "_model_name": "LayoutModel",
            "_view_count": null,
            "_view_module": "@jupyter-widgets/base",
            "_view_module_version": "1.2.0",
            "_view_name": "LayoutView",
            "align_content": null,
            "align_items": null,
            "align_self": null,
            "border": null,
            "bottom": null,
            "display": null,
            "flex": null,
            "flex_flow": null,
            "grid_area": null,
            "grid_auto_columns": null,
            "grid_auto_flow": null,
            "grid_auto_rows": null,
            "grid_column": null,
            "grid_gap": null,
            "grid_row": null,
            "grid_template_areas": null,
            "grid_template_columns": null,
            "grid_template_rows": null,
            "height": null,
            "justify_content": null,
            "justify_items": null,
            "left": null,
            "margin": null,
            "max_height": null,
            "max_width": null,
            "min_height": null,
            "min_width": null,
            "object_fit": null,
            "object_position": null,
            "order": null,
            "overflow": null,
            "overflow_x": null,
            "overflow_y": null,
            "padding": null,
            "right": null,
            "top": null,
            "visibility": null,
            "width": null
          }
        },
        "47b42ab7a8b64efdb7920df519c4f973": {
          "model_module": "@jupyter-widgets/controls",
          "model_module_version": "1.5.0",
          "model_name": "DescriptionStyleModel",
          "state": {
            "_model_module": "@jupyter-widgets/controls",
            "_model_module_version": "1.5.0",
            "_model_name": "DescriptionStyleModel",
            "_view_count": null,
            "_view_module": "@jupyter-widgets/base",
            "_view_module_version": "1.2.0",
            "_view_name": "StyleView",
            "description_width": ""
          }
        },
        "4c677646be3f41dcb4c544e382da2aea": {
          "model_module": "@jupyter-widgets/controls",
          "model_module_version": "1.5.0",
          "model_name": "ProgressStyleModel",
          "state": {
            "_model_module": "@jupyter-widgets/controls",
            "_model_module_version": "1.5.0",
            "_model_name": "ProgressStyleModel",
            "_view_count": null,
            "_view_module": "@jupyter-widgets/base",
            "_view_module_version": "1.2.0",
            "_view_name": "StyleView",
            "bar_color": null,
            "description_width": ""
          }
        },
        "5fc3e98edbbe4d5d8e7506c06d37d7b8": {
          "model_module": "@jupyter-widgets/controls",
          "model_module_version": "1.5.0",
          "model_name": "FloatProgressModel",
          "state": {
            "_dom_classes": [],
            "_model_module": "@jupyter-widgets/controls",
            "_model_module_version": "1.5.0",
            "_model_name": "FloatProgressModel",
            "_view_count": null,
            "_view_module": "@jupyter-widgets/controls",
            "_view_module_version": "1.5.0",
            "_view_name": "ProgressView",
            "bar_style": "success",
            "description": "",
            "description_tooltip": null,
            "layout": "IPY_MODEL_1e74a389ea2b47f0ac2f3a4abcad5dab",
            "max": 7,
            "min": 0,
            "orientation": "horizontal",
            "style": "IPY_MODEL_4c677646be3f41dcb4c544e382da2aea",
            "value": 7
          }
        },
        "6c739d3aaa004144a99c46d3df4fced9": {
          "model_module": "@jupyter-widgets/controls",
          "model_module_version": "1.5.0",
          "model_name": "HTMLModel",
          "state": {
            "_dom_classes": [],
            "_model_module": "@jupyter-widgets/controls",
            "_model_module_version": "1.5.0",
            "_model_name": "HTMLModel",
            "_view_count": null,
            "_view_module": "@jupyter-widgets/controls",
            "_view_module_version": "1.5.0",
            "_view_name": "HTMLView",
            "description": "",
            "description_tooltip": null,
            "layout": "IPY_MODEL_a2504c0a982d42268434c2d803ca6892",
            "placeholder": "​",
            "style": "IPY_MODEL_47b42ab7a8b64efdb7920df519c4f973",
            "value": "Processing rasters: 100%"
          }
        },
        "70596f5326154d5c9384cf33ea06d1bd": {
          "model_module": "@jupyter-widgets/base",
          "model_module_version": "1.2.0",
          "model_name": "LayoutModel",
          "state": {
            "_model_module": "@jupyter-widgets/base",
            "_model_module_version": "1.2.0",
            "_model_name": "LayoutModel",
            "_view_count": null,
            "_view_module": "@jupyter-widgets/base",
            "_view_module_version": "1.2.0",
            "_view_name": "LayoutView",
            "align_content": null,
            "align_items": null,
            "align_self": null,
            "border": null,
            "bottom": null,
            "display": null,
            "flex": null,
            "flex_flow": null,
            "grid_area": null,
            "grid_auto_columns": null,
            "grid_auto_flow": null,
            "grid_auto_rows": null,
            "grid_column": null,
            "grid_gap": null,
            "grid_row": null,
            "grid_template_areas": null,
            "grid_template_columns": null,
            "grid_template_rows": null,
            "height": null,
            "justify_content": null,
            "justify_items": null,
            "left": null,
            "margin": null,
            "max_height": null,
            "max_width": null,
            "min_height": null,
            "min_width": null,
            "object_fit": null,
            "object_position": null,
            "order": null,
            "overflow": null,
            "overflow_x": null,
            "overflow_y": null,
            "padding": null,
            "right": null,
            "top": null,
            "visibility": null,
            "width": null
          }
        },
        "8e5fd21c9dbe438491c884291dae02ab": {
          "model_module": "@jupyter-widgets/controls",
          "model_module_version": "1.5.0",
          "model_name": "HBoxModel",
          "state": {
            "_dom_classes": [],
            "_model_module": "@jupyter-widgets/controls",
            "_model_module_version": "1.5.0",
            "_model_name": "HBoxModel",
            "_view_count": null,
            "_view_module": "@jupyter-widgets/controls",
            "_view_module_version": "1.5.0",
            "_view_name": "HBoxView",
            "box_style": "",
            "children": [
              "IPY_MODEL_6c739d3aaa004144a99c46d3df4fced9",
              "IPY_MODEL_5fc3e98edbbe4d5d8e7506c06d37d7b8",
              "IPY_MODEL_e7cdf04d9522487db5f72ae46053fe81"
            ],
            "layout": "IPY_MODEL_70596f5326154d5c9384cf33ea06d1bd"
          }
        },
        "a2504c0a982d42268434c2d803ca6892": {
          "model_module": "@jupyter-widgets/base",
          "model_module_version": "1.2.0",
          "model_name": "LayoutModel",
          "state": {
            "_model_module": "@jupyter-widgets/base",
            "_model_module_version": "1.2.0",
            "_model_name": "LayoutModel",
            "_view_count": null,
            "_view_module": "@jupyter-widgets/base",
            "_view_module_version": "1.2.0",
            "_view_name": "LayoutView",
            "align_content": null,
            "align_items": null,
            "align_self": null,
            "border": null,
            "bottom": null,
            "display": null,
            "flex": null,
            "flex_flow": null,
            "grid_area": null,
            "grid_auto_columns": null,
            "grid_auto_flow": null,
            "grid_auto_rows": null,
            "grid_column": null,
            "grid_gap": null,
            "grid_row": null,
            "grid_template_areas": null,
            "grid_template_columns": null,
            "grid_template_rows": null,
            "height": null,
            "justify_content": null,
            "justify_items": null,
            "left": null,
            "margin": null,
            "max_height": null,
            "max_width": null,
            "min_height": null,
            "min_width": null,
            "object_fit": null,
            "object_position": null,
            "order": null,
            "overflow": null,
            "overflow_x": null,
            "overflow_y": null,
            "padding": null,
            "right": null,
            "top": null,
            "visibility": null,
            "width": null
          }
        },
        "e7cdf04d9522487db5f72ae46053fe81": {
          "model_module": "@jupyter-widgets/controls",
          "model_module_version": "1.5.0",
          "model_name": "HTMLModel",
          "state": {
            "_dom_classes": [],
            "_model_module": "@jupyter-widgets/controls",
            "_model_module_version": "1.5.0",
            "_model_name": "HTMLModel",
            "_view_count": null,
            "_view_module": "@jupyter-widgets/controls",
            "_view_module_version": "1.5.0",
            "_view_name": "HTMLView",
            "description": "",
            "description_tooltip": null,
            "layout": "IPY_MODEL_f89bd44178a34c4aa2c063ecee22d07e",
            "placeholder": "​",
            "style": "IPY_MODEL_0f8ed5678f934b8d8604335cd416bfb5",
            "value": " 7/7 [00:35&lt;00:00,  5.33s/raster]"
          }
        },
        "f89bd44178a34c4aa2c063ecee22d07e": {
          "model_module": "@jupyter-widgets/base",
          "model_module_version": "1.2.0",
          "model_name": "LayoutModel",
          "state": {
            "_model_module": "@jupyter-widgets/base",
            "_model_module_version": "1.2.0",
            "_model_name": "LayoutModel",
            "_view_count": null,
            "_view_module": "@jupyter-widgets/base",
            "_view_module_version": "1.2.0",
            "_view_name": "LayoutView",
            "align_content": null,
            "align_items": null,
            "align_self": null,
            "border": null,
            "bottom": null,
            "display": null,
            "flex": null,
            "flex_flow": null,
            "grid_area": null,
            "grid_auto_columns": null,
            "grid_auto_flow": null,
            "grid_auto_rows": null,
            "grid_column": null,
            "grid_gap": null,
            "grid_row": null,
            "grid_template_areas": null,
            "grid_template_columns": null,
            "grid_template_rows": null,
            "height": null,
            "justify_content": null,
            "justify_items": null,
            "left": null,
            "margin": null,
            "max_height": null,
            "max_width": null,
            "min_height": null,
            "min_width": null,
            "object_fit": null,
            "object_position": null,
            "order": null,
            "overflow": null,
            "overflow_x": null,
            "overflow_y": null,
            "padding": null,
            "right": null,
            "top": null,
            "visibility": null,
            "width": null
          }
        }
      }
    }
  },
  "nbformat": 4,
  "nbformat_minor": 0
}
